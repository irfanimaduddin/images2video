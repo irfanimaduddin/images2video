{
  "nbformat": 4,
  "nbformat_minor": 0,
  "metadata": {
    "colab": {
      "name": "image2video.ipynb",
      "provenance": [],
      "authorship_tag": "ABX9TyN8JtGfFrMgDgk6yW5CYLRz"
    },
    "kernelspec": {
      "name": "python3",
      "display_name": "Python 3"
    },
    "language_info": {
      "name": "python"
    }
  },
  "cells": [
    {
      "cell_type": "markdown",
      "source": [
        "# Generate Video from Images with Python\n",
        "\n",
        "by: Irfan Imaduddin <br>\n",
        "contact: irfanimaduddin[at]gmail[dot]com\n",
        "\n",
        "---"
      ],
      "metadata": {
        "id": "05YV9knfUR-5"
      }
    },
    {
      "cell_type": "markdown",
      "source": [
        "## Setup"
      ],
      "metadata": {
        "id": "bv6ljtjsUal7"
      }
    },
    {
      "cell_type": "markdown",
      "source": [
        "Authenticate Google Drive"
      ],
      "metadata": {
        "id": "9q2Uy_S6Ucd_"
      }
    },
    {
      "cell_type": "code",
      "source": [
        "from google.colab import drive\n",
        "drive.mount('/content/drive/')"
      ],
      "metadata": {
        "colab": {
          "base_uri": "https://localhost:8080/"
        },
        "id": "aQv6kdnFUb9H",
        "outputId": "07d406ef-2306-4c62-cb6a-5f2c5d66dc61"
      },
      "execution_count": null,
      "outputs": [
        {
          "output_type": "stream",
          "name": "stdout",
          "text": [
            "Mounted at /content/drive/\n"
          ]
        }
      ]
    },
    {
      "cell_type": "markdown",
      "source": [
        "Import modules"
      ],
      "metadata": {
        "id": "8bt8wF0NUnJa"
      }
    },
    {
      "cell_type": "code",
      "execution_count": null,
      "metadata": {
        "id": "klC5fz-VUAnT"
      },
      "outputs": [],
      "source": [
        "import os\n",
        "import glob"
      ]
    },
    {
      "cell_type": "markdown",
      "source": [
        "Set `WORK_DIR`"
      ],
      "metadata": {
        "id": "q9YsLhUEUuoJ"
      }
    },
    {
      "cell_type": "code",
      "source": [
        "WORK_DIR = \"/content/drive/MyDrive/2021.10.07-hilal\"\n",
        "OUTPUT_PATH = os.path.join(WORK_DIR, \"test_video_3.mp4\")"
      ],
      "metadata": {
        "id": "sDi2PGtvUxjt"
      },
      "execution_count": null,
      "outputs": []
    },
    {
      "cell_type": "markdown",
      "source": [
        "## Let's Get It Started"
      ],
      "metadata": {
        "id": "ibOf4ZjPVD1z"
      }
    },
    {
      "cell_type": "markdown",
      "source": [
        "Define function"
      ],
      "metadata": {
        "id": "LqDnUxFXVRKV"
      }
    },
    {
      "cell_type": "code",
      "source": [
        "def images2video(output, images=None, fps=30, size=None, is_color=True, format=\"FMP4\"):\n",
        "    \"\"\"\n",
        "    Create a video from a list of images.\n",
        " \n",
        "    @param      outvid      output video\n",
        "    @param      images      list of images to use in the video\n",
        "    @param      fps         frame per second\n",
        "    @param      size        size of each frame\n",
        "    @param      is_color    color\n",
        "    @param      format      see http://www.fourcc.org/codecs.php\n",
        "    @return                 see http://opencv-python-tutroals.readthedocs.org/en/latest/py_tutorials/py_gui/py_video_display/py_video_display.html\n",
        " \n",
        "    The function relies on http://opencv-python-tutroals.readthedocs.org/en/latest/.\n",
        "    By default, the video will have the size of the first image.\n",
        "    It will resize every image to this size before adding them to the video.\n",
        "    \"\"\"\n",
        "    from cv2 import VideoWriter, VideoWriter_fourcc, imread, resize\n",
        "    fourcc = VideoWriter_fourcc(*format)\n",
        "    vid = None\n",
        "    for image in images:\n",
        "        if not os.path.exists(image):\n",
        "            raise FileNotFoundError(image)\n",
        "        img = imread(image)\n",
        "        if vid is None:\n",
        "            if size is None:\n",
        "                size = img.shape[1], img.shape[0]\n",
        "            vid = VideoWriter(output, fourcc, float(fps), size, is_color)\n",
        "        if size[0] != img.shape[1] and size[1] != img.shape[0]:\n",
        "            img = resize(img, size)\n",
        "        vid.write(img)\n",
        "    vid.release()\n",
        "    return vid"
      ],
      "metadata": {
        "id": "v_x4gZZdVQRR"
      },
      "execution_count": null,
      "outputs": []
    },
    {
      "cell_type": "markdown",
      "source": [
        "Make video from a list of images"
      ],
      "metadata": {
        "id": "8uvhg4J9nUQC"
      }
    },
    {
      "cell_type": "code",
      "source": [
        "images = list(glob.iglob(os.path.join(WORK_DIR, '*.*')))\n",
        "\n",
        "# Sort the images by integer index\n",
        "# images = sorted(images, key=lambda x: os.path.split(x)[1][:-4])\n",
        "\n",
        "images2video(OUTPUT_PATH, images, fps=10)"
      ],
      "metadata": {
        "colab": {
          "base_uri": "https://localhost:8080/"
        },
        "id": "ZiL63U8aVG1L",
        "outputId": "2c696836-57c8-465a-cde0-16bfb22f8e98"
      },
      "execution_count": null,
      "outputs": [
        {
          "output_type": "execute_result",
          "data": {
            "text/plain": [
              "< cv2.VideoWriter 0x7f58932066d0>"
            ]
          },
          "metadata": {},
          "execution_count": 28
        }
      ]
    },
    {
      "cell_type": "code",
      "source": [
        ""
      ],
      "metadata": {
        "id": "y3ffB7MxoXKI"
      },
      "execution_count": null,
      "outputs": []
    }
  ]
}